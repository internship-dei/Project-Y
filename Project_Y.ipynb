{
  "nbformat": 4,
  "nbformat_minor": 0,
  "metadata": {
    "colab": {
      "name": "Project_Y.ipynb",
      "provenance": [],
      "collapsed_sections": []
    },
    "kernelspec": {
      "name": "python3",
      "display_name": "Python 3"
    },
    "language_info": {
      "name": "python"
    }
  },
  "cells": [
    {
      "cell_type": "markdown",
      "metadata": {
        "id": "MmXCeI6wr9S8"
      },
      "source": [
        "# COMPONENT 1 - WEB SCRAPING MODULE"
      ]
    },
    {
      "cell_type": "markdown",
      "metadata": {
        "id": "qRfhYv5or1pi"
      },
      "source": [
        "### IMPORTING THE LIBRARIES"
      ]
    },
    {
      "cell_type": "code",
      "metadata": {
        "id": "bLF8oD0LFZ7p"
      },
      "source": [
        "from bs4 import BeautifulSoup\n",
        "import requests\n",
        "import json\n",
        "import pandas as pd"
      ],
      "execution_count": null,
      "outputs": []
    },
    {
      "cell_type": "markdown",
      "metadata": {
        "id": "NhAcE7dNsdPt"
      },
      "source": [
        "### EXTRACTING NEWS DATA FOR TWO WEEKS (Feb 1, 2021 to Feb 14, 2021)"
      ]
    },
    {
      "cell_type": "code",
      "metadata": {
        "id": "WcNXEy-Ycv4F"
      },
      "source": [
        "#To scrape the webpages from Feb 1 to Feb 7\n",
        "num_list = [ \"01\", \"02\", \"03\", \"04\", \"05\", \"06\", \"07\"]"
      ],
      "execution_count": null,
      "outputs": []
    },
    {
      "cell_type": "code",
      "metadata": {
        "id": "u90UNEdLcqDD"
      },
      "source": [
        "#To scrape the webpages from Feb 8 to Feb 14\n",
        "num_list = [ \"08\", \"09\", \"10\", \"11\", \"12\", \"13\", \"14\"]"
      ],
      "execution_count": null,
      "outputs": []
    },
    {
      "cell_type": "code",
      "metadata": {
        "id": "rNqK4LsKcIwQ"
      },
      "source": [
        "num = 0\n",
        "for i in range(len(num_list)):\n",
        "\n",
        "  #List to store all the urls of each day\n",
        "  URL = []\n",
        "\n",
        "  page = requests.get(\"https://www.thehindu.com/archive/web/2021/02/{0}/\".format(num_list[i]))\n",
        "  soup = BeautifulSoup(page.content, \"html.parser\")\n",
        "\n",
        "  #Scraping all the tags conataining links\n",
        "  for item in soup.find_all(attrs={'class':'archive-list'}):\n",
        "    for link in item.find_all(href=True):\n",
        "        href=link.get('href')\n",
        "        URL.append(href)\n",
        "\n",
        "  #Scraping content from each webpage link in the url list      \n",
        "  for url in URL:\n",
        "    news_data = {\"text\" : []}\n",
        "    page = requests.get(url)\n",
        "    soup = BeautifulSoup(page.content, \"html.parser\")\n",
        "    for p in soup.find_all('p'):\n",
        "      news_data[\"text\"].append(p.text)\n",
        "\n",
        "    #Creating an independent .json file for each webpage  \n",
        "    with open('thehindu_feb_02_file_{0}.json'.format(num), 'w') as jsonfile:\n",
        "      json.dump(news_data, jsonfile)\n",
        "    num+=1"
      ],
      "execution_count": null,
      "outputs": []
    },
    {
      "cell_type": "markdown",
      "metadata": {
        "id": "D0aGUh-jfDeU"
      },
      "source": [
        "### CREATING A LIST OF JSON FILES"
      ]
    },
    {
      "cell_type": "code",
      "metadata": {
        "id": "3K7uapMbc4Lj"
      },
      "source": [
        "json_files = []\n",
        "for i in range(len(URL_list)):\n",
        "  json_files.append('thehindu_feb_02_file_{0}.json'.format(i))"
      ],
      "execution_count": null,
      "outputs": []
    },
    {
      "cell_type": "markdown",
      "metadata": {
        "id": "Cbz5mFkWeQ29"
      },
      "source": [
        "### STORING THE TEXT FROM EACH FILE IN A LIST"
      ]
    },
    {
      "cell_type": "code",
      "metadata": {
        "id": "UVrMfcIiePgz"
      },
      "source": [
        "raw_text = []\n",
        "for js in json_files:\n",
        "    with open(js) as json_file:\n",
        "        json_text = json.load(json_file)\n",
        "    raw_text.append(json_text['text'])"
      ],
      "execution_count": null,
      "outputs": []
    },
    {
      "cell_type": "markdown",
      "metadata": {
        "id": "f1l2MQMTedNs"
      },
      "source": [
        "### SAVING THE RAW TEXT IN A SEPARATE .JSON FILE"
      ]
    },
    {
      "cell_type": "code",
      "metadata": {
        "id": "jrTD7KDGeb9R"
      },
      "source": [
        "#To save the data from Feb 1 to Feb 7\n",
        "with open('raw_text_01.json', 'w') as jsonfile:\n",
        "    json.dump(raw_text, jsonfile)"
      ],
      "execution_count": null,
      "outputs": []
    },
    {
      "cell_type": "code",
      "metadata": {
        "id": "LepNQ3C0emHB"
      },
      "source": [
        "#To save the data from Feb 8 to Feb 14\n",
        "with open('raw_text_02.json', 'w') as jsonfile:\n",
        "    json.dump(raw_text, jsonfile)"
      ],
      "execution_count": null,
      "outputs": []
    },
    {
      "cell_type": "markdown",
      "metadata": {
        "id": "D7v7WsTO1EIx"
      },
      "source": [
        "## CREATING A DATAFRAME TO STORE THE FILE NAMES AND THE CORRESPONDING URLs"
      ]
    },
    {
      "cell_type": "code",
      "metadata": {
        "id": "wJo9WQhse7od"
      },
      "source": [
        "num_list = [\"01\", \"02\", \"03\", \"04\", \"05\", \"06\", \"07\", \"08\", \"09\", \"10\", \"11\", \"12\", \"13\", \"14\"]"
      ],
      "execution_count": null,
      "outputs": []
    },
    {
      "cell_type": "markdown",
      "metadata": {
        "id": "1yCN-0udby6Y"
      },
      "source": [
        "### CREATING A LIST OF ALL THE URLs"
      ]
    },
    {
      "cell_type": "code",
      "metadata": {
        "id": "QEz9F7dobo4m"
      },
      "source": [
        "URL_list = []\n",
        "for i in range(len(num_list)):\n",
        "  page = requests.get(\"https://www.thehindu.com/archive/web/2021/02/{0}/\".format(num_list[i]))\n",
        "  soup = BeautifulSoup(page.content, \"html.parser\")\n",
        "  for item in soup.find_all(attrs={'class':'archive-list'}):\n",
        "    for link in item.find_all(href=True):\n",
        "        href=link.get('href')\n",
        "        URL_list.append(href)"
      ],
      "execution_count": null,
      "outputs": []
    },
    {
      "cell_type": "code",
      "metadata": {
        "id": "lRZbBaeHigNn",
        "colab": {
          "base_uri": "https://localhost:8080/"
        },
        "outputId": "adad615f-b086-40f8-b217-289e9ac2aeba"
      },
      "source": [
        "len(URL_list)"
      ],
      "execution_count": null,
      "outputs": [
        {
          "output_type": "execute_result",
          "data": {
            "text/plain": [
              "5554"
            ]
          },
          "metadata": {
            "tags": []
          },
          "execution_count": 19
        }
      ]
    },
    {
      "cell_type": "code",
      "metadata": {
        "colab": {
          "base_uri": "https://localhost:8080/",
          "height": 359
        },
        "id": "rhW__MZmfH7k",
        "outputId": "1cf1f3e7-175a-406c-a96a-0a35e96f389c"
      },
      "source": [
        "tab_head = [\"File_Scraped\", \"Corresponding URL\"]\n",
        "df_data = pd.DataFrame(zip(json_files, URL_list), columns = tab_head)\n",
        "df_data[:10]"
      ],
      "execution_count": null,
      "outputs": [
        {
          "output_type": "execute_result",
          "data": {
            "text/html": [
              "<div>\n",
              "<style scoped>\n",
              "    .dataframe tbody tr th:only-of-type {\n",
              "        vertical-align: middle;\n",
              "    }\n",
              "\n",
              "    .dataframe tbody tr th {\n",
              "        vertical-align: top;\n",
              "    }\n",
              "\n",
              "    .dataframe thead th {\n",
              "        text-align: right;\n",
              "    }\n",
              "</style>\n",
              "<table border=\"1\" class=\"dataframe\">\n",
              "  <thead>\n",
              "    <tr style=\"text-align: right;\">\n",
              "      <th></th>\n",
              "      <th>File_Scraped</th>\n",
              "      <th>Corresponding URL</th>\n",
              "    </tr>\n",
              "  </thead>\n",
              "  <tbody>\n",
              "    <tr>\n",
              "      <th>0</th>\n",
              "      <td>thehindu_feb_02_file_0.json</td>\n",
              "      <td>https://www.thehindu.com/sport/other-sports/va...</td>\n",
              "    </tr>\n",
              "    <tr>\n",
              "      <th>1</th>\n",
              "      <td>thehindu_feb_02_file_1.json</td>\n",
              "      <td>https://www.thehindu.com/sport/tennis/advantag...</td>\n",
              "    </tr>\n",
              "    <tr>\n",
              "      <th>2</th>\n",
              "      <td>thehindu_feb_02_file_2.json</td>\n",
              "      <td>https://www.thehindu.com/sport/tennis/murray-r...</td>\n",
              "    </tr>\n",
              "    <tr>\n",
              "      <th>3</th>\n",
              "      <td>thehindu_feb_02_file_3.json</td>\n",
              "      <td>https://www.thehindu.com/sci-tech/technology/c...</td>\n",
              "    </tr>\n",
              "    <tr>\n",
              "      <th>4</th>\n",
              "      <td>thehindu_feb_02_file_4.json</td>\n",
              "      <td>https://www.thehindu.com/sci-tech/technology/e...</td>\n",
              "    </tr>\n",
              "    <tr>\n",
              "      <th>5</th>\n",
              "      <td>thehindu_feb_02_file_5.json</td>\n",
              "      <td>https://www.thehindu.com/sci-tech/technology/s...</td>\n",
              "    </tr>\n",
              "    <tr>\n",
              "      <th>6</th>\n",
              "      <td>thehindu_feb_02_file_6.json</td>\n",
              "      <td>https://www.thehindu.com/sci-tech/technology/e...</td>\n",
              "    </tr>\n",
              "    <tr>\n",
              "      <th>7</th>\n",
              "      <td>thehindu_feb_02_file_7.json</td>\n",
              "      <td>https://www.thehindu.com/sci-tech/technology/m...</td>\n",
              "    </tr>\n",
              "    <tr>\n",
              "      <th>8</th>\n",
              "      <td>thehindu_feb_02_file_8.json</td>\n",
              "      <td>https://www.thehindu.com/sci-tech/technology/a...</td>\n",
              "    </tr>\n",
              "    <tr>\n",
              "      <th>9</th>\n",
              "      <td>thehindu_feb_02_file_9.json</td>\n",
              "      <td>https://www.thehindu.com/sci-tech/technology/t...</td>\n",
              "    </tr>\n",
              "  </tbody>\n",
              "</table>\n",
              "</div>"
            ],
            "text/plain": [
              "                  File_Scraped                                  Corresponding URL\n",
              "0  thehindu_feb_02_file_0.json  https://www.thehindu.com/sport/other-sports/va...\n",
              "1  thehindu_feb_02_file_1.json  https://www.thehindu.com/sport/tennis/advantag...\n",
              "2  thehindu_feb_02_file_2.json  https://www.thehindu.com/sport/tennis/murray-r...\n",
              "3  thehindu_feb_02_file_3.json  https://www.thehindu.com/sci-tech/technology/c...\n",
              "4  thehindu_feb_02_file_4.json  https://www.thehindu.com/sci-tech/technology/e...\n",
              "5  thehindu_feb_02_file_5.json  https://www.thehindu.com/sci-tech/technology/s...\n",
              "6  thehindu_feb_02_file_6.json  https://www.thehindu.com/sci-tech/technology/e...\n",
              "7  thehindu_feb_02_file_7.json  https://www.thehindu.com/sci-tech/technology/m...\n",
              "8  thehindu_feb_02_file_8.json  https://www.thehindu.com/sci-tech/technology/a...\n",
              "9  thehindu_feb_02_file_9.json  https://www.thehindu.com/sci-tech/technology/t..."
            ]
          },
          "metadata": {
            "tags": []
          },
          "execution_count": 11
        }
      ]
    },
    {
      "cell_type": "markdown",
      "metadata": {
        "id": "1rrx4XdC1cVv"
      },
      "source": [
        "### STORING THE DATAFRAME IN .CSV FILE"
      ]
    },
    {
      "cell_type": "code",
      "metadata": {
        "id": "qqpCwFVR1TBo"
      },
      "source": [
        "df_data.to_csv('URLs_to_file_mapping.csv', sep ='|')"
      ],
      "execution_count": null,
      "outputs": []
    },
    {
      "cell_type": "markdown",
      "metadata": {
        "id": "0d9SHwz9fVm4"
      },
      "source": [
        "### DISPLAYING THE CONTENT IN .CSV FILE"
      ]
    },
    {
      "cell_type": "code",
      "metadata": {
        "colab": {
          "base_uri": "https://localhost:8080/",
          "height": 359
        },
        "id": "ijQqjZm7fT9e",
        "outputId": "ce73f739-2bd8-44d6-c4e9-d3717651f9f3"
      },
      "source": [
        "new_df = pd.read_csv('URLs_to_file_mapping.csv')\n",
        "new_df.head(10)"
      ],
      "execution_count": null,
      "outputs": [
        {
          "output_type": "execute_result",
          "data": {
            "text/html": [
              "<div>\n",
              "<style scoped>\n",
              "    .dataframe tbody tr th:only-of-type {\n",
              "        vertical-align: middle;\n",
              "    }\n",
              "\n",
              "    .dataframe tbody tr th {\n",
              "        vertical-align: top;\n",
              "    }\n",
              "\n",
              "    .dataframe thead th {\n",
              "        text-align: right;\n",
              "    }\n",
              "</style>\n",
              "<table border=\"1\" class=\"dataframe\">\n",
              "  <thead>\n",
              "    <tr style=\"text-align: right;\">\n",
              "      <th></th>\n",
              "      <th>|File_Scraped|Corresponding URL</th>\n",
              "    </tr>\n",
              "  </thead>\n",
              "  <tbody>\n",
              "    <tr>\n",
              "      <th>0</th>\n",
              "      <td>0|thehindu_feb_02_file_0.json|https://www.theh...</td>\n",
              "    </tr>\n",
              "    <tr>\n",
              "      <th>1</th>\n",
              "      <td>1|thehindu_feb_02_file_1.json|https://www.theh...</td>\n",
              "    </tr>\n",
              "    <tr>\n",
              "      <th>2</th>\n",
              "      <td>2|thehindu_feb_02_file_2.json|https://www.theh...</td>\n",
              "    </tr>\n",
              "    <tr>\n",
              "      <th>3</th>\n",
              "      <td>3|thehindu_feb_02_file_3.json|https://www.theh...</td>\n",
              "    </tr>\n",
              "    <tr>\n",
              "      <th>4</th>\n",
              "      <td>4|thehindu_feb_02_file_4.json|https://www.theh...</td>\n",
              "    </tr>\n",
              "    <tr>\n",
              "      <th>5</th>\n",
              "      <td>5|thehindu_feb_02_file_5.json|https://www.theh...</td>\n",
              "    </tr>\n",
              "    <tr>\n",
              "      <th>6</th>\n",
              "      <td>6|thehindu_feb_02_file_6.json|https://www.theh...</td>\n",
              "    </tr>\n",
              "    <tr>\n",
              "      <th>7</th>\n",
              "      <td>7|thehindu_feb_02_file_7.json|https://www.theh...</td>\n",
              "    </tr>\n",
              "    <tr>\n",
              "      <th>8</th>\n",
              "      <td>8|thehindu_feb_02_file_8.json|https://www.theh...</td>\n",
              "    </tr>\n",
              "    <tr>\n",
              "      <th>9</th>\n",
              "      <td>9|thehindu_feb_02_file_9.json|https://www.theh...</td>\n",
              "    </tr>\n",
              "  </tbody>\n",
              "</table>\n",
              "</div>"
            ],
            "text/plain": [
              "                     |File_Scraped|Corresponding URL\n",
              "0  0|thehindu_feb_02_file_0.json|https://www.theh...\n",
              "1  1|thehindu_feb_02_file_1.json|https://www.theh...\n",
              "2  2|thehindu_feb_02_file_2.json|https://www.theh...\n",
              "3  3|thehindu_feb_02_file_3.json|https://www.theh...\n",
              "4  4|thehindu_feb_02_file_4.json|https://www.theh...\n",
              "5  5|thehindu_feb_02_file_5.json|https://www.theh...\n",
              "6  6|thehindu_feb_02_file_6.json|https://www.theh...\n",
              "7  7|thehindu_feb_02_file_7.json|https://www.theh...\n",
              "8  8|thehindu_feb_02_file_8.json|https://www.theh...\n",
              "9  9|thehindu_feb_02_file_9.json|https://www.theh..."
            ]
          },
          "metadata": {
            "tags": []
          },
          "execution_count": 13
        }
      ]
    },
    {
      "cell_type": "markdown",
      "metadata": {
        "id": "suJhwZdvn0zG"
      },
      "source": [
        "### VIEWING THE RAW DATA"
      ]
    },
    {
      "cell_type": "code",
      "metadata": {
        "id": "xpeJEJnunuPz"
      },
      "source": [
        "raw_text = []\n",
        "f1 = open('raw_text_01.json')\n",
        "data1 = json.load(f1)\n",
        "for i in data1:\n",
        "  raw_text.append(i) \n",
        "\n",
        "f2 = open('raw_text_02.json')\n",
        "data2 = json.load(f2)\n",
        "for i in data2:\n",
        "  raw_text.append(i)"
      ],
      "execution_count": null,
      "outputs": []
    },
    {
      "cell_type": "code",
      "metadata": {
        "colab": {
          "base_uri": "https://localhost:8080/"
        },
        "id": "LRlbGixtg1Bw",
        "outputId": "75c6879e-8830-4f5a-fab0-e99e2311015b"
      },
      "source": [
        "len(raw_text)"
      ],
      "execution_count": null,
      "outputs": [
        {
          "output_type": "execute_result",
          "data": {
            "text/plain": [
              "5565"
            ]
          },
          "metadata": {
            "tags": []
          },
          "execution_count": 18
        }
      ]
    }
  ]
}